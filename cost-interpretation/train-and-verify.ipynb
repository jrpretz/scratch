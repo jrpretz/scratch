{
 "cells": [
  {
   "cell_type": "markdown",
   "metadata": {},
   "source": [
    "# Summary\n",
    "\n",
    "Double-checking that interpreting the output of a cross-entropy-trained network makes sense as a probability. This is a demonstration that the probabilities are computed correctly. \n"
   ]
  },
  {
   "cell_type": "code",
   "execution_count": 1,
   "metadata": {
    "collapsed": false
   },
   "outputs": [
    {
     "name": "stderr",
     "output_type": "stream",
     "text": [
      "Using TensorFlow backend.\n"
     ]
    }
   ],
   "source": [
    "import warnings\n",
    "warnings.simplefilter(action='ignore', category=FutureWarning)\n",
    "warnings.simplefilter(action='ignore', category=DeprecationWarning)\n",
    "warnings.simplefilter(action='ignore', category=RuntimeWarning)\n",
    "warnings.simplefilter(action='ignore', category=ImportWarning)\n",
    "import h5py\n",
    "#warnings.resetwarnings()\n",
    "import keras\n",
    "import numpy as np\n",
    "import sys\n",
    "import matplotlib.pyplot as plt\n",
    "%matplotlib inline"
   ]
  },
  {
   "cell_type": "markdown",
   "metadata": {},
   "source": [
    "# Setting up the Data\n",
    "\n",
    "A large dataset sampled from two Gaussians. One is centered at 0 and one is centered at 1.\n",
    "Let's look at a distribution of the 0 and 1 categories.\n"
   ]
  },
  {
   "cell_type": "code",
   "execution_count": 2,
   "metadata": {
    "collapsed": false
   },
   "outputs": [
    {
     "data": {
      "text/plain": [
       "<matplotlib.legend.Legend at 0x7f48199c8f98>"
      ]
     },
     "execution_count": 2,
     "metadata": {},
     "output_type": "execute_result"
    },
    {
     "data": {
      "image/png": "[encoded data removed]",
      "text/plain": [
       "<matplotlib.figure.Figure at 0x7f4819ede8d0>"
      ]
     },
     "metadata": {},
     "output_type": "display_data"
    }
   ],
   "source": [
    "nsamples = 300000\n",
    "\n",
    "X_train = np.zeros(shape=(nsamples,1))\n",
    "y_train = np.zeros(shape=(nsamples))\n",
    "\n",
    "X_train[0:nsamples//2,:] = np.random.randn(nsamples//2,1)\n",
    "y_train[0:nsamples//2] = 0 \n",
    "X_train[nsamples//2:nsamples,:] = np.random.randn(nsamples//2,1) + 1.0\n",
    "y_train[nsamples//2:nsamples] = 1 \n",
    "\n",
    "_ = plt.hist(X_train[0:nsamples//2,:],bins=200,range=(-10,10),label=\"Class 0\",alpha=0.5,color='blue')\n",
    "_ = plt.hist(X_train[nsamples//2:nsamples,:],bins=200,range=(-10,10),label=\"Class 1\",alpha=0.5,color='black')\n",
    "plt.legend(loc='upper left')"
   ]
  },
  {
   "cell_type": "markdown",
   "metadata": {},
   "source": [
    "# The model\n",
    "\n",
    "This is an over-complicated model. The reason for the complexity is that I am looking at the detailed probabilities that come out, not just the 0/1 classification and I want to make sure that I have a model that's nuanced enough to capture the details.\n",
    "\n",
    "Note in fitting the model, the data is not randomly sampled. The first half is the 0s and the second half is the 1s. I'm not batch training, though, so it's fine. "
   ]
  },
  {
   "cell_type": "code",
   "execution_count": 3,
   "metadata": {
    "collapsed": false
   },
   "outputs": [],
   "source": [
    "X_input = keras.layers.Input((1,))\n",
    "layer1 = keras.layers.Dense(20, activation='relu')\n",
    "X = layer1(X_input)\n",
    "layer2 = keras.layers.Dense(20, activation='relu')\n",
    "X = layer2(X_input)\n",
    "layer3 = keras.layers.Dense(20, activation='relu')\n",
    "X = layer3(X_input)\n",
    "layer4 = keras.layers.Dense(1, activation='sigmoid')\n",
    "X = layer4(X)\n",
    "\n",
    "adam = keras.optimizers.Adam(lr=0.1, beta_1=0.9, beta_2=0.999, epsilon=None, decay=0.0, amsgrad=False)\n",
    "\n",
    "model = keras.models.Model(inputs = X_input, outputs = X, name='model')\n",
    "model.compile(optimizer=adam, loss='binary_crossentropy', metrics=['accuracy'])"
   ]
  },
  {
   "cell_type": "code",
   "execution_count": 4,
   "metadata": {
    "collapsed": false
   },
   "outputs": [
    {
     "data": {
      "text/plain": [
       "<keras.callbacks.History at 0x7f4815cb8f60>"
      ]
     },
     "execution_count": 4,
     "metadata": {},
     "output_type": "execute_result"
    }
   ],
   "source": [
    "model.fit(x=X_train,y=y_train,batch_size=nsamples,epochs=50,verbose=0)\n"
   ]
  },
  {
   "cell_type": "markdown",
   "metadata": {},
   "source": [
    "# Ideal NN output\n",
    "\n",
    "The NN should compute the probability that a given example is of class 0 or 1. But for this dataset, I know those probabilities precisely; the two populations are just drawn from Gaussians of different. So here, we get the probabilities as a function of x from the NN and computed exactly. They agree well."
   ]
  },
  {
   "cell_type": "code",
   "execution_count": 5,
   "metadata": {
    "collapsed": false
   },
   "outputs": [
    {
     "data": {
      "text/plain": [
       "<matplotlib.legend.Legend at 0x7f4815b49898>"
      ]
     },
     "execution_count": 5,
     "metadata": {},
     "output_type": "execute_result"
    },
    {
     "data": {
      "image/png": "[encoded data removed]",
      "text/plain": [
       "<matplotlib.figure.Figure at 0x7f48150e7da0>"
      ]
     },
     "metadata": {},
     "output_type": "display_data"
    }
   ],
   "source": [
    "# probability vs x\n",
    "X_test = np.linspace(-10,10,10000).reshape(10000,1)\n",
    "pred = model.predict(X_test)\n",
    "\n",
    "# I can compute the probability exactly and compare to the predicted\n",
    "# prob from the model\n",
    "fig = plt.figure()\n",
    "ax = fig.add_subplot(1,1,1)\n",
    "\n",
    "ax.plot(X_test,pred,label=\"NN-Predicted Probability\")\n",
    "g1 = np.exp(-X_test*X_test/2.)\n",
    "g2 = np.exp(-(X_test-1)*(X_test-1)/2.)\n",
    "ax.plot(X_test,g2/(g1+g2),label=\"True Probability\")\n",
    "ax.set_xlabel(\"X\")\n",
    "ax.set_ylabel(\"Prob to be in class 1\")\n",
    "ax.legend(loc='upper left')\n",
    "#plt.savefig(\"prob.png\")\n",
    "\n"
   ]
  }
 ],
 "metadata": {
  "anaconda-cloud": {},
  "kernelspec": {
   "display_name": "Python [conda root]",
   "language": "python",
   "name": "conda-root-py"
  },
  "language_info": {
   "codemirror_mode": {
    "name": "ipython",
    "version": 3
   },
   "file_extension": ".py",
   "mimetype": "text/x-python",
   "name": "python",
   "nbconvert_exporter": "python",
   "pygments_lexer": "ipython3",
   "version": "3.5.2"
  }
 },
 "nbformat": 4,
 "nbformat_minor": 1
}
