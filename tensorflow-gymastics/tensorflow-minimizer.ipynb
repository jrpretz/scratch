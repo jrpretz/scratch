{
 "cells": [
  {
   "cell_type": "code",
   "execution_count": 23,
   "metadata": {},
   "outputs": [
    {
     "name": "stdout",
     "output_type": "stream",
     "text": [
      "29.0 2.0 -5.0\n",
      "25.64 0.8 -5.0\n",
      "25.1024 0.32 -5.0\n",
      "25.0164 0.128 -5.0\n",
      "25.0026 0.0512 -5.0\n",
      "25.0004 0.02048 -5.0\n",
      "25.0001 0.008192 -5.0\n",
      "25.0 0.0032768 -5.0\n",
      "25.0 0.00131072 -5.0\n",
      "25.0 0.000524288 -5.0\n",
      "25.0 0.000209715 -5.0\n",
      "25.0 8.3886e-05 -5.0\n",
      "25.0 3.35544e-05 -5.0\n",
      "25.0 1.34218e-05 -5.0\n",
      "25.0 5.3687e-06 -5.0\n",
      "25.0 2.14748e-06 -5.0\n",
      "25.0 8.58993e-07 -5.0\n",
      "25.0 3.43597e-07 -5.0\n",
      "25.0 1.37439e-07 -5.0\n",
      "25.0 5.49755e-08 -5.0\n",
      "25.0 2.19902e-08 -5.0\n",
      "25.0 8.79608e-09 -5.0\n",
      "25.0 3.51843e-09 -5.0\n",
      "25.0 1.40737e-09 -5.0\n",
      "25.0 5.62949e-10 -5.0\n",
      "25.0 2.2518e-10 -5.0\n",
      "25.0 9.00719e-11 -5.0\n",
      "25.0 3.60287e-11 -5.0\n",
      "25.0 1.44115e-11 -5.0\n",
      "25.0 5.7646e-12 -5.0\n",
      "25.0 2.30584e-12 -5.0\n",
      "25.0 9.22335e-13 -5.0\n",
      "25.0 3.68934e-13 -5.0\n",
      "25.0 1.47574e-13 -5.0\n",
      "25.0 5.90295e-14 -5.0\n",
      "25.0 2.36118e-14 -5.0\n",
      "25.0 9.44471e-15 -5.0\n",
      "25.0 3.77788e-15 -5.0\n",
      "25.0 1.51115e-15 -5.0\n",
      "25.0 6.04461e-16 -5.0\n",
      "25.0 2.41785e-16 -5.0\n",
      "25.0 9.67138e-17 -5.0\n",
      "25.0 3.86855e-17 -5.0\n",
      "25.0 1.54742e-17 -5.0\n",
      "25.0 6.18968e-18 -5.0\n",
      "25.0 2.47587e-18 -5.0\n",
      "25.0 9.90349e-19 -5.0\n",
      "25.0 3.9614e-19 -5.0\n",
      "25.0 1.58456e-19 -5.0\n",
      "25.0 6.33823e-20 -5.0\n"
     ]
    }
   ],
   "source": [
    "import tensorflow as tf\n",
    "\n",
    "sess = tf.Session()\n",
    "\n",
    "x = tf.Variable(5.0)\n",
    "y = tf.Variable(-5.0)\n",
    "\n",
    "f = x * x + y * y\n",
    "\n",
    "init = tf.global_variables_initializer()\n",
    "sess.run(init)\n",
    "\n",
    "sess.run(f)\n",
    "\n",
    "updates = tf.train.GradientDescentOptimizer(0.3).minimize(f,var_list=[x])\n",
    "\n",
    "for i in range(0,50):\n",
    "    sess.run(updates)\n",
    "    print(sess.run(f),sess.run(x),sess.run(y))\n"
   ]
  }
 ],
 "metadata": {
  "kernelspec": {
   "display_name": "Python 3",
   "language": "python",
   "name": "python3"
  },
  "language_info": {
   "codemirror_mode": {
    "name": "ipython",
    "version": 3
   },
   "file_extension": ".py",
   "mimetype": "text/x-python",
   "name": "python",
   "nbconvert_exporter": "python",
   "pygments_lexer": "ipython3",
   "version": "3.6.2"
  }
 },
 "nbformat": 4,
 "nbformat_minor": 2
}
