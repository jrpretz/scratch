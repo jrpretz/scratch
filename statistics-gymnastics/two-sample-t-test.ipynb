{
 "cells": [
  {
   "cell_type": "code",
   "execution_count": 21,
   "metadata": {
    "collapsed": false
   },
   "outputs": [
    {
     "name": "stdout",
     "output_type": "stream",
     "text": [
      "[1.6044222  6.93481373 5.32369132 3.28113776 6.11013071 5.32783498\n",
      " 8.88716211 9.65272404 1.95529151 0.24529275]\n",
      "4.932250110815813 9.806893639641174 3.1315960211434\n",
      "[ 0.22030695 10.76169384 10.22166076  4.82525541  0.70075184  3.45672201\n",
      "  9.05432308]\n",
      "5.60581626988901 19.67875702170116 4.436074505878047\n",
      "-0.3685228609145479\n",
      "0.7176326797101336\n"
     ]
    },
    {
     "data": {
      "text/plain": [
       "Ttest_indResult(statistic=-0.36852286091454783, pvalue=0.7176326797101336)"
      ]
     },
     "execution_count": 21,
     "metadata": {},
     "output_type": "execute_result"
    }
   ],
   "source": [
    "import numpy as np\n",
    "from scipy.stats import t\n",
    "from scipy.stats import ttest_ind\n",
    "\n",
    "np.random.seed(32)\n",
    "\n",
    "a = np.random.normal(3,4,size=10)\n",
    "b = np.random.normal(3,4,size=7)\n",
    "\n",
    "na = len(a)\n",
    "a_mean = np.sum(a)/len(a)\n",
    "a_var = np.sum((a_mean - a)**2 / (na-1))\n",
    "a_stddev = np.sqrt(a_var)\n",
    "\n",
    "print(a)\n",
    "print(a_mean,a_var,a_stddev)\n",
    "\n",
    "nb = len(b)\n",
    "b_mean = np.sum(b)/len(b)\n",
    "b_var = np.sum((b_mean - b)**2 / (nb-1))\n",
    "b_stddev = np.sqrt(b_var)\n",
    "\n",
    "print(b)\n",
    "print(b_mean,b_var,b_stddev)\n",
    "\n",
    "sp = np.sqrt(  ((na - 1) * a_var  + (nb -1)*b_var)/(na + nb -2)  )\n",
    "tval = (a_mean - b_mean)/(sp * np.sqrt( (1./na) + (1./nb)))\n",
    "\n",
    "print(tval)\n",
    "print(t.cdf(tval,df=na+nb-2) * 2)\n",
    "\n",
    "\n",
    "ttest_ind(a,b)\n"
   ]
  }
 ],
 "metadata": {
  "kernelspec": {
   "display_name": "Python [conda root]",
   "language": "python",
   "name": "conda-root-py"
  },
  "language_info": {
   "codemirror_mode": {
    "name": "ipython",
    "version": 3
   },
   "file_extension": ".py",
   "mimetype": "text/x-python",
   "name": "python",
   "nbconvert_exporter": "python",
   "pygments_lexer": "ipython3",
   "version": "3.5.2"
  }
 },
 "nbformat": 4,
 "nbformat_minor": 1
}
