{
 "cells": [
  {
   "cell_type": "code",
   "execution_count": 34,
   "metadata": {
    "collapsed": false
   },
   "outputs": [
    {
     "name": "stdout",
     "output_type": "stream",
     "text": [
      "[2.5022111  5.16740687 4.36184566 3.34056888 4.75506535 4.36391749\n",
      " 6.14358105 6.52636202 2.67764576 1.82264637]\n",
      "4.166125055407907 2.4517234099102936 1.5657980105717\n",
      "1.9511812245373021\n",
      "0.08280947069921618\n"
     ]
    },
    {
     "data": {
      "text/plain": [
       "Ttest_1sampResult(statistic=1.951181224537302, pvalue=0.08280947069921618)"
      ]
     },
     "execution_count": 34,
     "metadata": {},
     "output_type": "execute_result"
    }
   ],
   "source": [
    "import numpy as np\n",
    "from scipy.stats import t\n",
    "\n",
    "np.random.seed(32)\n",
    "\n",
    "x = np.random.normal(3.2,2.0,size=10)\n",
    "\n",
    "print(x)\n",
    "\n",
    "mean = np.sum(x)/len(x)\n",
    "variance =  np.sum(((x - mean)**2)/(len(x)-1))\n",
    "print(mean,variance,np.sqrt(variance))\n",
    "\n",
    "tval = (mean - 3.2)/(np.sqrt(variance)/np.sqrt(10))\n",
    "print(tval)\n",
    "\n",
    "#tdist = scipy.stats.t\n",
    "#scipy.stats.t.pdf(3)\n",
    "cdf = t.cdf(tval,df=9)\n",
    "\n",
    "print( (1.-cdf)*2)\n",
    "\n",
    "scipy.stats.ttest_1samp(x,popmean=3.2)"
   ]
  }
 ],
 "metadata": {
  "anaconda-cloud": {},
  "kernelspec": {
   "display_name": "Python [conda root]",
   "language": "python",
   "name": "conda-root-py"
  },
  "language_info": {
   "codemirror_mode": {
    "name": "ipython",
    "version": 3
   },
   "file_extension": ".py",
   "mimetype": "text/x-python",
   "name": "python",
   "nbconvert_exporter": "python",
   "pygments_lexer": "ipython3",
   "version": "3.5.2"
  }
 },
 "nbformat": 4,
 "nbformat_minor": 1
}
